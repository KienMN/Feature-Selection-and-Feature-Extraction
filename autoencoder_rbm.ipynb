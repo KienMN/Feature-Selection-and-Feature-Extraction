{
 "cells": [
  {
   "cell_type": "markdown",
   "metadata": {},
   "source": [
    "# Autoencoder for feature extraction"
   ]
  },
  {
   "cell_type": "markdown",
   "metadata": {},
   "source": [
    "## Importing the libraries"
   ]
  },
  {
   "cell_type": "code",
   "execution_count": 1,
   "metadata": {},
   "outputs": [],
   "source": [
    "from __future__ import absolute_import, division, print_function\n",
    "\n",
    "import tensorflow as tf\n",
    "import numpy as np\n",
    "import matplotlib.pyplot as plt"
   ]
  },
  {
   "cell_type": "markdown",
   "metadata": {},
   "source": [
    "## Importing the MNIST dataset"
   ]
  },
  {
   "cell_type": "code",
   "execution_count": 2,
   "metadata": {},
   "outputs": [],
   "source": [
    "from tensorflow.keras.datasets import mnist\n",
    "\n",
    "(X_train, y_train), (X_test, y_test) = mnist.load_data()"
   ]
  },
  {
   "cell_type": "code",
   "execution_count": 3,
   "metadata": {},
   "outputs": [],
   "source": [
    "X_train = X_train[:10000, :, :].reshape(10000, 28 * 28).astype(np.float32)\n",
    "y_train = y_train[:10000]\n",
    "X_test = X_test[:5000, :, :].reshape(5000, 28 * 28).astype(np.float32)\n",
    "y_test = y_test[:5000]"
   ]
  },
  {
   "cell_type": "code",
   "execution_count": 4,
   "metadata": {},
   "outputs": [],
   "source": [
    "# Rescaling the dataset to the range [0, 1]\n",
    "X_train, X_test = X_train / 255., X_test / 255."
   ]
  },
  {
   "cell_type": "markdown",
   "metadata": {},
   "source": [
    "## Autoencoder"
   ]
  },
  {
   "cell_type": "markdown",
   "metadata": {},
   "source": [
    "### Parameters"
   ]
  },
  {
   "cell_type": "code",
   "execution_count": 5,
   "metadata": {},
   "outputs": [],
   "source": [
    "# MNIST Dataset parameters.\n",
    "n_features = 28 * 28 # data features (img shape: 28*28).\n",
    "\n",
    "# Training parameters.\n",
    "learning_rate = 0.01\n",
    "training_steps = 30000\n",
    "batch_size = 256\n",
    "display_step = 1000\n",
    "\n",
    "# Network Parameters\n",
    "n_hidden_1 = 50 # 1st layer num features.\n",
    "n_hidden_2 = 50 # 2nd layer num features.\n",
    "n_hidden_3 = 5  # 3rd layer num features (the latent dim)."
   ]
  },
  {
   "cell_type": "markdown",
   "metadata": {},
   "source": [
    "### Preparing the dataset"
   ]
  },
  {
   "cell_type": "code",
   "execution_count": 6,
   "metadata": {},
   "outputs": [],
   "source": [
    "# Use tf.data API to shuffle and batch data.\n",
    "# Prefetch batch (pre-load batch for faster consumption).\n",
    "train_data = tf.data.Dataset.from_tensor_slices((X_train, y_train))\n",
    "train_data = train_data.repeat().shuffle(10000).batch(batch_size).prefetch(1)\n",
    "\n",
    "test_data = tf.data.Dataset.from_tensor_slices((X_test, y_test))\n",
    "test_data = test_data.repeat().batch(batch_size).prefetch(1)"
   ]
  },
  {
   "cell_type": "markdown",
   "metadata": {},
   "source": [
    "### Pretraining using Restricted Boltzmann Machine"
   ]
  },
  {
   "cell_type": "code",
   "execution_count": 7,
   "metadata": {},
   "outputs": [],
   "source": [
    "from restricted_boltzmann_machine_tf2 import RBM"
   ]
  },
  {
   "cell_type": "code",
   "execution_count": 8,
   "metadata": {},
   "outputs": [
    {
     "name": "stdout",
     "output_type": "stream",
     "text": [
      "Step 0, loss: 0.23169802129268646\n",
      "Step 1000, loss: 0.05056941136717796\n",
      "Step 2000, loss: 0.043234337121248245\n",
      "Step 3000, loss: 0.03679727390408516\n",
      "Step 4000, loss: 0.03521275147795677\n",
      "Step 5000, loss: 0.03400471806526184\n",
      "Step 6000, loss: 0.03176131844520569\n",
      "Step 7000, loss: 0.0310378260910511\n",
      "Step 8000, loss: 0.031424760818481445\n",
      "Step 9000, loss: 0.028875501826405525\n",
      "Step 10000, loss: 0.02919154241681099\n",
      "Step 11000, loss: 0.02883090265095234\n",
      "Step 12000, loss: 0.028635716065764427\n",
      "Step 13000, loss: 0.02755877375602722\n",
      "Step 14000, loss: 0.028179079294204712\n",
      "Step 15000, loss: 0.02908572368323803\n",
      "Step 16000, loss: 0.027441900223493576\n",
      "Step 17000, loss: 0.027257053181529045\n",
      "Step 18000, loss: 0.0272077489644289\n",
      "Step 19000, loss: 0.026032550260424614\n",
      "Step 20000, loss: 0.02773207053542137\n",
      "Step 21000, loss: 0.027071073651313782\n",
      "Step 22000, loss: 0.02621741034090519\n",
      "Step 23000, loss: 0.027161290869116783\n",
      "Step 24000, loss: 0.025893494486808777\n",
      "Step 25000, loss: 0.026553116738796234\n",
      "Step 26000, loss: 0.026263698935508728\n",
      "Step 27000, loss: 0.025392863899469376\n",
      "Step 28000, loss: 0.02403850480914116\n",
      "Step 29000, loss: 0.026479022577404976\n",
      "Step 30000, loss: 0.025611326098442078\n"
     ]
    }
   ],
   "source": [
    "rbm_1 = RBM(n_visible=n_features, n_hidden=n_hidden_1)\n",
    "rbm_1.fit(X=X_train, training_steps=30000, batch_size=batch_size)"
   ]
  },
  {
   "cell_type": "code",
   "execution_count": 9,
   "metadata": {},
   "outputs": [
    {
     "name": "stdout",
     "output_type": "stream",
     "text": [
      "Step 0, loss: 0.22731265425682068\n",
      "Step 1000, loss: 0.18362529575824738\n",
      "Step 2000, loss: 0.14377769827842712\n",
      "Step 3000, loss: 0.11947239190340042\n",
      "Step 4000, loss: 0.10216069966554642\n",
      "Step 5000, loss: 0.09234887361526489\n",
      "Step 6000, loss: 0.08726800978183746\n",
      "Step 7000, loss: 0.0804339200258255\n",
      "Step 8000, loss: 0.07899197190999985\n",
      "Step 9000, loss: 0.07882899791002274\n",
      "Step 10000, loss: 0.07409132272005081\n",
      "Step 11000, loss: 0.06680729985237122\n",
      "Step 12000, loss: 0.06601288169622421\n",
      "Step 13000, loss: 0.06421448290348053\n",
      "Step 14000, loss: 0.06170494481921196\n",
      "Step 15000, loss: 0.05931316316127777\n",
      "Step 16000, loss: 0.059454403817653656\n",
      "Step 17000, loss: 0.055604323744773865\n",
      "Step 18000, loss: 0.05723677948117256\n",
      "Step 19000, loss: 0.05417921021580696\n",
      "Step 20000, loss: 0.055895376950502396\n",
      "Step 21000, loss: 0.05355459824204445\n",
      "Step 22000, loss: 0.05299929529428482\n",
      "Step 23000, loss: 0.052658386528491974\n",
      "Step 24000, loss: 0.05361250787973404\n",
      "Step 25000, loss: 0.053025759756565094\n",
      "Step 26000, loss: 0.05227192863821983\n",
      "Step 27000, loss: 0.050141964107751846\n",
      "Step 28000, loss: 0.048305533826351166\n",
      "Step 29000, loss: 0.049688395112752914\n",
      "Step 30000, loss: 0.050666600465774536\n"
     ]
    }
   ],
   "source": [
    "rbm_2 = RBM(n_visible=n_hidden_1, n_hidden=n_hidden_2)\n",
    "rbm_2.fit(X=rbm_1.probabilities_hidden(X_train), training_steps=30000, batch_size=batch_size)"
   ]
  },
  {
   "cell_type": "code",
   "execution_count": 10,
   "metadata": {},
   "outputs": [
    {
     "name": "stdout",
     "output_type": "stream",
     "text": [
      "Step 0, loss: 0.17909739911556244\n",
      "Step 1000, loss: 0.14577893912792206\n",
      "Step 2000, loss: 0.13787373900413513\n",
      "Step 3000, loss: 0.1296902745962143\n",
      "Step 4000, loss: 0.11762060225009918\n",
      "Step 5000, loss: 0.1153063178062439\n",
      "Step 6000, loss: 0.11218530684709549\n",
      "Step 7000, loss: 0.10882458835840225\n",
      "Step 8000, loss: 0.10833875834941864\n",
      "Step 9000, loss: 0.10228630155324936\n",
      "Step 10000, loss: 0.10539498925209045\n",
      "Step 11000, loss: 0.10269191861152649\n",
      "Step 12000, loss: 0.1002061665058136\n",
      "Step 13000, loss: 0.09599446505308151\n",
      "Step 14000, loss: 0.09630197286605835\n",
      "Step 15000, loss: 0.0942096933722496\n",
      "Step 16000, loss: 0.09718762338161469\n",
      "Step 17000, loss: 0.09607157111167908\n",
      "Step 18000, loss: 0.0931389257311821\n",
      "Step 19000, loss: 0.09787137806415558\n",
      "Step 20000, loss: 0.09413106739521027\n",
      "Step 21000, loss: 0.09443167597055435\n",
      "Step 22000, loss: 0.09423800557851791\n",
      "Step 23000, loss: 0.09518615901470184\n",
      "Step 24000, loss: 0.09550347924232483\n",
      "Step 25000, loss: 0.09369440376758575\n",
      "Step 26000, loss: 0.0944022387266159\n",
      "Step 27000, loss: 0.09077361226081848\n",
      "Step 28000, loss: 0.09410056471824646\n",
      "Step 29000, loss: 0.09201197326183319\n",
      "Step 30000, loss: 0.09280426800251007\n"
     ]
    }
   ],
   "source": [
    "rbm_3 = RBM(n_visible=n_hidden_2, n_hidden=n_hidden_3)\n",
    "rbm_3.fit(X=rbm_2.probabilities_hidden(rbm_1.probabilities_hidden(X_train)), training_steps=30000, batch_size=batch_size)"
   ]
  },
  {
   "cell_type": "code",
   "execution_count": 11,
   "metadata": {},
   "outputs": [
    {
     "data": {
      "text/plain": [
       "<tf.Tensor: id=2190160, shape=(784, 50), dtype=float32, numpy=\n",
       "array([[-0.15906677, -0.4451187 , -0.35089222, ..., -0.31300035,\n",
       "        -0.24466224, -0.29807496],\n",
       "       [-0.1572324 , -0.44700402, -0.3800831 , ..., -0.30114046,\n",
       "        -0.23809646, -0.3003903 ],\n",
       "       [-0.1510073 , -0.43031022, -0.35515714, ..., -0.32477218,\n",
       "        -0.2378833 , -0.30065268],\n",
       "       ...,\n",
       "       [-0.15144649, -0.43621457, -0.35773644, ..., -0.30360577,\n",
       "        -0.23155974, -0.30120346],\n",
       "       [-0.16263293, -0.4559549 , -0.37165236, ..., -0.3130858 ,\n",
       "        -0.25433537, -0.29670545],\n",
       "       [-0.17187457, -0.4336571 , -0.37153536, ..., -0.30593592,\n",
       "        -0.23060408, -0.3038839 ]], dtype=float32)>"
      ]
     },
     "execution_count": 11,
     "metadata": {},
     "output_type": "execute_result"
    }
   ],
   "source": [
    "rbm_1._weights"
   ]
  },
  {
   "cell_type": "markdown",
   "metadata": {},
   "source": [
    "### Autoencoder architecture"
   ]
  },
  {
   "cell_type": "code",
   "execution_count": 12,
   "metadata": {},
   "outputs": [],
   "source": [
    "# Store layers weight & bias\n",
    "\n",
    "# Using pretrained RBM to initialize weights.\n",
    "random_normal = tf.initializers.RandomNormal()\n",
    "\n",
    "weights = {\n",
    "    'encoder_h1': tf.Variable(tf.identity(rmb_1._weights)),\n",
    "    'encoder_h2': tf.Variable(tf.identity(rmb_2._weights)),\n",
    "    'encoder_h3': tf.Variable(tf.identity(rmb_3._weights)),\n",
    "    'decoder_h1': tf.Variable(tf.transpose(tf.identity(rmb_3._weights))),\n",
    "    'decoder_h2': tf.Variable(tf.transpose(tf.identity(rmb_2._weights))),\n",
    "    'decoder_h3': tf.Variable(tf.transpose(tf.identity(rmb_1._weights))),\n",
    "}\n",
    "\n",
    "biases = {\n",
    "    'encoder_b1': tf.Variable(random_normal([n_hidden_1])),\n",
    "    'encoder_b2': tf.Variable(random_normal([n_hidden_2])),\n",
    "    'encoder_b3': tf.Variable(random_normal([n_hidden_3])),\n",
    "    'decoder_b1': tf.Variable(random_normal([n_hidden_2])),\n",
    "    'decoder_b2': tf.Variable(random_normal([n_hidden_1])),\n",
    "    'decoder_b3': tf.Variable(random_normal([n_features])),\n",
    "}"
   ]
  },
  {
   "cell_type": "markdown",
   "metadata": {},
   "source": [
    "### Building the encoder and decoder"
   ]
  },
  {
   "cell_type": "code",
   "execution_count": 13,
   "metadata": {},
   "outputs": [],
   "source": [
    "# Building the encoder.\n",
    "def encoder(x):\n",
    "    # Encoder Hidden layer with sigmoid activation\n",
    "    layer_1 = tf.nn.sigmoid(tf.add(tf.matmul(x, weights['encoder_h1']), biases['encoder_b1']))\n",
    "    # Encoder Hidden layer with sigmoid activation\n",
    "    layer_2 = tf.nn.sigmoid(tf.add(tf.matmul(layer_1, weights['encoder_h2']), biases['encoder_b2']))\n",
    "    # Encoder Hidden layer with sigmoid activation\n",
    "    layer_3 = tf.nn.sigmoid(tf.add(tf.matmul(layer_2, weights['encoder_h3']), biases['encoder_b3']))\n",
    "    \n",
    "    return layer_3\n",
    "\n",
    "# Building the decoder.\n",
    "def decoder(x):\n",
    "    # Decoder Hidden layer with sigmoid activation\n",
    "    layer_1 = tf.nn.sigmoid(tf.add(tf.matmul(x, weights['decoder_h1']), biases['decoder_b1']))\n",
    "    # Decoder Hidden layer with sigmoid activation\n",
    "    layer_2 = tf.nn.sigmoid(tf.add(tf.matmul(layer_1, weights['decoder_h2']), biases['decoder_b2']))\n",
    "    # Decoder Hidden layer with sigmoid activation\n",
    "    layer_3 = tf.nn.sigmoid(tf.add(tf.matmul(layer_2, weights['decoder_h3']), biases['decoder_b3']))\n",
    "    \n",
    "    return layer_3"
   ]
  },
  {
   "cell_type": "markdown",
   "metadata": {},
   "source": [
    "### Defining loss function and optimizer"
   ]
  },
  {
   "cell_type": "code",
   "execution_count": 14,
   "metadata": {},
   "outputs": [],
   "source": [
    "# Mean square loss between the original and reconstructed images.\n",
    "def mean_square(reconstructed, original):\n",
    "    return tf.reduce_mean(tf.pow(original - reconstructed, 2))\n",
    "\n",
    "# Adam optimizer\n",
    "optimizer = tf.optimizers.Adam(learning_rate=learning_rate)"
   ]
  },
  {
   "cell_type": "code",
   "execution_count": 15,
   "metadata": {},
   "outputs": [],
   "source": [
    "# Optimization process.\n",
    "def run_optimization(x):\n",
    "    # Wrap computation inside a GradientTape for automatic differentiation.\n",
    "    with tf.GradientTape() as g:\n",
    "        reconstructed_image = decoder(encoder(x))\n",
    "        loss = mean_square(reconstructed_image, x)\n",
    "    \n",
    "    # Variables to update, i.e. trainable variables.\n",
    "    trainable_variables = list(weights.values()) + list(biases.values())\n",
    "    \n",
    "    # Compute gradients.\n",
    "    gradients = g.gradient(loss, trainable_variables)\n",
    "    \n",
    "    # Update W and b following gradients.\n",
    "    optimizer.apply_gradients(zip(gradients, trainable_variables))\n",
    "    \n",
    "    return loss"
   ]
  },
  {
   "cell_type": "markdown",
   "metadata": {},
   "source": [
    "### Fitting the autoencoder"
   ]
  },
  {
   "cell_type": "code",
   "execution_count": 16,
   "metadata": {},
   "outputs": [
    {
     "name": "stdout",
     "output_type": "stream",
     "text": [
      "step: 0, loss: 0.06906984001398087\n",
      "step: 1000, loss: 0.031983524560928345\n",
      "step: 2000, loss: 0.027561005204916\n",
      "step: 3000, loss: 0.026433531194925308\n",
      "step: 4000, loss: 0.024534130468964577\n",
      "step: 5000, loss: 0.025674965232610703\n",
      "step: 6000, loss: 0.024189278483390808\n",
      "step: 7000, loss: 0.025080634281039238\n",
      "step: 8000, loss: 0.024034548550844193\n",
      "step: 9000, loss: 0.02461622655391693\n",
      "step: 10000, loss: 0.02425694651901722\n",
      "step: 11000, loss: 0.02449747733771801\n",
      "step: 12000, loss: 0.025836952030658722\n",
      "step: 13000, loss: 0.023222027346491814\n",
      "step: 14000, loss: 0.023139983415603638\n",
      "step: 15000, loss: 0.023869194090366364\n",
      "step: 16000, loss: 0.02312016300857067\n",
      "step: 17000, loss: 0.023601021617650986\n",
      "step: 18000, loss: 0.02162465825676918\n",
      "step: 19000, loss: 0.02315024472773075\n",
      "step: 20000, loss: 0.023460140451788902\n",
      "step: 21000, loss: 0.02305595763027668\n",
      "step: 22000, loss: 0.022504767403006554\n",
      "step: 23000, loss: 0.023201923817396164\n",
      "step: 24000, loss: 0.02289714105427265\n",
      "step: 25000, loss: 0.02215670607984066\n",
      "step: 26000, loss: 0.02346770651638508\n",
      "step: 27000, loss: 0.024172553792595863\n",
      "step: 28000, loss: 0.021470222622156143\n",
      "step: 29000, loss: 0.02228143811225891\n",
      "step: 30000, loss: 0.02244332619011402\n"
     ]
    }
   ],
   "source": [
    "# Run training for the given number of steps.\n",
    "for step, (batch_x, _) in enumerate(train_data.take(training_steps + 1)):\n",
    "    # Run the optimization.\n",
    "    loss = run_optimization(batch_x)\n",
    "    \n",
    "    if step % display_step == 0:\n",
    "        print('step: {}, loss: {}'.format(step, loss))"
   ]
  },
  {
   "cell_type": "markdown",
   "metadata": {},
   "source": [
    "### Visualization of the result"
   ]
  },
  {
   "cell_type": "code",
   "execution_count": 17,
   "metadata": {},
   "outputs": [
    {
     "name": "stdout",
     "output_type": "stream",
     "text": [
      "Original Images\n"
     ]
    },
    {
     "data": {
      "image/png": "[encoded data removed]",
      "text/plain": [
       "<Figure size 288x288 with 1 Axes>"
      ]
     },
     "metadata": {
      "needs_background": "light"
     },
     "output_type": "display_data"
    },
    {
     "name": "stdout",
     "output_type": "stream",
     "text": [
      "Reconstructed Images\n"
     ]
    },
    {
     "data": {
      "image/png": "[encoded data removed]",
      "text/plain": [
       "<Figure size 288x288 with 1 Axes>"
      ]
     },
     "metadata": {
      "needs_background": "light"
     },
     "output_type": "display_data"
    }
   ],
   "source": [
    "# Encode and decode images from test set and visualize their reconstruction.\n",
    "n = 4\n",
    "canvas_orig = np.empty((28 * n, 28 * n))\n",
    "canvas_recon = np.empty((28 * n, 28 * n))\n",
    "for i, (batch_x, _) in enumerate(test_data.take(n)):\n",
    "    # Encode and decode the digit image.\n",
    "    reconstructed_images = decoder(encoder(batch_x))\n",
    "    # Display original images.\n",
    "    for j in range(n):\n",
    "        # Draw the generated digits.\n",
    "        img = batch_x[j].numpy().reshape([28, 28])\n",
    "        canvas_orig[i * 28:(i + 1) * 28, j * 28:(j + 1) * 28] = img\n",
    "    # Display reconstructed images.\n",
    "    for j in range(n):\n",
    "        # Draw the generated digits.\n",
    "        reconstr_img = reconstructed_images[j].numpy().reshape([28, 28])\n",
    "        canvas_recon[i * 28:(i + 1) * 28, j * 28:(j + 1) * 28] = reconstr_img\n",
    "\n",
    "print(\"Original Images\")     \n",
    "plt.figure(figsize=(n, n))\n",
    "plt.imshow(canvas_orig, origin=\"upper\", cmap=\"gray\")\n",
    "plt.show()\n",
    "\n",
    "print(\"Reconstructed Images\")\n",
    "plt.figure(figsize=(n, n))\n",
    "plt.imshow(canvas_recon, origin=\"upper\", cmap=\"gray\")\n",
    "plt.show()"
   ]
  },
  {
   "cell_type": "markdown",
   "metadata": {},
   "source": [
    "## Feature extraction and fitting a simple classifier"
   ]
  },
  {
   "cell_type": "code",
   "execution_count": 18,
   "metadata": {},
   "outputs": [
    {
     "data": {
      "text/plain": [
       "<tf.Tensor: id=10651234, shape=(5000, 5), dtype=float32, numpy=\n",
       "array([[0.63222826, 0.04184642, 0.6606653 , 0.36354452, 0.93683314],\n",
       "       [0.02824819, 0.6212084 , 0.7547623 , 0.7523118 , 0.09911186],\n",
       "       [0.78892964, 0.91654766, 0.8107109 , 0.81813765, 0.49375087],\n",
       "       ...,\n",
       "       [0.17643076, 0.4009742 , 0.5585717 , 0.77177024, 0.03427184],\n",
       "       [0.40404993, 0.6151297 , 0.44144124, 0.24344641, 0.64750725],\n",
       "       [0.12404066, 0.11575192, 0.14149296, 0.06492996, 0.12620738]],\n",
       "      dtype=float32)>"
      ]
     },
     "execution_count": 18,
     "metadata": {},
     "output_type": "execute_result"
    }
   ],
   "source": [
    "encoder(X_test)"
   ]
  },
  {
   "cell_type": "code",
   "execution_count": 19,
   "metadata": {},
   "outputs": [],
   "source": [
    "from sklearn.naive_bayes import GaussianNB\n",
    "classifier = GaussianNB()"
   ]
  },
  {
   "cell_type": "code",
   "execution_count": 20,
   "metadata": {},
   "outputs": [
    {
     "data": {
      "text/plain": [
       "GaussianNB(priors=None, var_smoothing=1e-09)"
      ]
     },
     "execution_count": 20,
     "metadata": {},
     "output_type": "execute_result"
    }
   ],
   "source": [
    "classifier.fit(encoder(X_train), y_train)"
   ]
  },
  {
   "cell_type": "code",
   "execution_count": 21,
   "metadata": {},
   "outputs": [
    {
     "name": "stdout",
     "output_type": "stream",
     "text": [
      "Accuracy: 77.12%\n"
     ]
    }
   ],
   "source": [
    "accuracy = classifier.score(encoder(X_test), y_test)\n",
    "print('Accuracy: {}%'.format(accuracy * 100))"
   ]
  }
 ],
 "metadata": {
  "kernelspec": {
   "display_name": "jupyter_env",
   "language": "python",
   "name": "jupyter_env"
  },
  "language_info": {
   "codemirror_mode": {
    "name": "ipython",
    "version": 3
   },
   "file_extension": ".py",
   "mimetype": "text/x-python",
   "name": "python",
   "nbconvert_exporter": "python",
   "pygments_lexer": "ipython3",
   "version": "3.6.8"
  }
 },
 "nbformat": 4,
 "nbformat_minor": 4
}
